{
 "cells": [
  {
   "attachments": {},
   "cell_type": "markdown",
   "metadata": {},
   "source": [
    "# Design of a simple Dash application using GitHub Copilot"
   ]
  },
  {
   "attachments": {},
   "cell_type": "markdown",
   "metadata": {},
   "source": [
    "## Overview\n",
    "\n",
    "I had previously worked on a miniproject to create a Dash application showing useage patterns for the city of Boston's Blue Bikes system. While this project was never finished, it was still in the back of my mind at the time that I acquired a subscription to GitHub Copilot. I decided to continue the Blue Bikes project using Copilot, as a test case for pair programming with an AI system. The results were encouraging. While it was necessary to guide Copilot away from some dead ends, it was particularly useful when working with Dash, which requires many components in a particular order."
   ]
  },
  {
   "attachments": {},
   "cell_type": "markdown",
   "metadata": {},
   "source": [
    "## Project background\n",
    "\n",
    "The city of Boston operates a system known as Blue Bikes, which allows users to rent a bike using an application. As part of the city's data portal, this data is available for developers. \n",
    "\n",
    "The data, which is divided into monthly files, contains information on each trip, including the start and end stations, the duration, and the user type. The data is available at https://www.bluebikes.com/system-data.\n",
    "\n",
    "The goal of the project was to create two classes: one to read the data into a local PostgreSQL database, and one to create a Dash application showing useage patterns by neighbourhood, time (day of week, hour of day and month of the year), and user type."
   ]
  },
  {
   "attachments": {},
   "cell_type": "markdown",
   "metadata": {},
   "source": [
    "## Data\n",
    "\n",
    "Three datasets were necessary to develop the application: the Blue Bikes data (including journey data and station locations) and a shapefile of Boston neighbourhoods. The Blue Bikes data was downloaded from the city's data portal. The shapefiles were downloaded from the city's GIS portal."
   ]
  },
  {
   "attachments": {},
   "cell_type": "markdown",
   "metadata": {},
   "source": [
    "## Initial development\n",
    "\n",
    "It was initially planned to write all the necessary tables - journeys, stations and neighbourhoods - to the database. However, this substantially increased the needed processing time. The steps were therefore carried out locally, with the final table (containing neighbourhood and time information) being written to the database as journeys_enriched.\n",
    "\n",
    "The successful creation of the table was the most challenging part of the project. One issue was Copilot's tendency to predict future text or code based on locally available text or code. This had two consequences:\n",
    "\n",
    "1. The code would often repeat itself, as Copilot would predict the same code as previous lines.\n",
    "2. If a change in approach had to be made, Copilot would often continue to use the old approach until prompted not to do so.\n",
    "\n",
    "It was, however, possible to overcome these issues by prompting Copilot, either in the initial design or with in-line comments.\n",
    "\n",
    "These issues were also present in the Dash application, where Copilot would often suggest code based on previous versions of the journeys_enriched table. Consequently, it was necessary to write the first draft of the class creating the Dash application in a separate text file."
   ]
  },
  {
   "attachments": {},
   "cell_type": "markdown",
   "metadata": {},
   "source": [
    "## Results\n",
    "\n",
    "A preview of the application can be seen beneath:"
   ]
  },
  {
   "cell_type": "code",
   "execution_count": 1,
   "metadata": {},
   "outputs": [
    {
     "data": {
      "text/html": [
       "<img src=\"app_preview.jpg\"/>"
      ],
      "text/plain": [
       "<IPython.core.display.Image object>"
      ]
     },
     "execution_count": 1,
     "metadata": {},
     "output_type": "execute_result"
    }
   ],
   "source": [
    "from IPython.display import Image\n",
    "from IPython.core.display import HTML \n",
    "Image(url= \"app_preview.jpg\")"
   ]
  },
  {
   "attachments": {},
   "cell_type": "markdown",
   "metadata": {},
   "source": [
    "The application is quite simple. However, the goal of this project was to test the use of Copilot in a real-world application. The results were encouraging. While it was necessary to guide Copilot away from some dead ends, it was particularly useful when working with Dash, which requires many components in a particular order. It was also useful when writing SQL queries, as it was able to suggest the correct syntax for the queries."
   ]
  },
  {
   "attachments": {},
   "cell_type": "markdown",
   "metadata": {},
   "source": [
    "## Reflections\n",
    "\n",
    "I observed the following while using Copilot:\n",
    "\n",
    "- The biggest challenge so far is Copilot's programmatic nearsightedness (its tendency to predict future text or code based on locally available text or code). This meant that on occasion, Copilot went down dead ends by repeating code or continued to use old approaches.\n",
    "\n",
    "- I had previously worked on a manual version of this project, and was therefore able to guide Copilot through the use of complex packages such as geopandas. It would have been difficult to do so either completely from scratch, or without experience with these packages.\n",
    "\n",
    "- The more detail given in a design specification, the better. However, Copilot still occasionally misses instructions (it is not, for instance, able to reliably generate docstrings or argument typing)"
   ]
  },
  {
   "attachments": {},
   "cell_type": "markdown",
   "metadata": {},
   "source": [
    "## Next steps\n",
    "\n",
    "As of 09.06,2023, I intend to continue with the following steps and new features:\n",
    "\n",
    "1. The creation of a Folium map to show usage patterns by neighbourhood visually.\n",
    "2. The creation of a Folium map to show the most popular routes (an idea suggested by Copilot).\n",
    "3. The creation of a Folium map to show the most popular stations (an idea suggested by Copilot).\n"
   ]
  }
 ],
 "metadata": {
  "kernelspec": {
   "display_name": "bikeshareai",
   "language": "python",
   "name": "python3"
  },
  "language_info": {
   "codemirror_mode": {
    "name": "ipython",
    "version": 3
   },
   "file_extension": ".py",
   "mimetype": "text/x-python",
   "name": "python",
   "nbconvert_exporter": "python",
   "pygments_lexer": "ipython3",
   "version": "3.9.16"
  },
  "orig_nbformat": 4
 },
 "nbformat": 4,
 "nbformat_minor": 2
}
