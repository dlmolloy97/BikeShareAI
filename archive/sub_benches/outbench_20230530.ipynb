{
 "cells": [
  {
   "cell_type": "code",
   "execution_count": null,
   "metadata": {},
   "outputs": [],
   "source": [
    "# Write a function called optunamiser that uses the library optuna to optimise the degrees of a \n",
    "#function that creates a scikit learn scorer object from a polynomial quadratic function.\n",
    "#The function should take as input an object called operator. It should create a function called objective, which should\n",
    "# use trial.suggest_int to get three values - first_degree, second_degree and third_degree - from the argument params_grid\n",
    "# It should then  create a piecewise quadratic function with numpy.piecewise, which is used to create a scikit-learn scorer object. \n",
    "# The scorer is then used to calculate the mean squared error of the .scoring method of the operator, which takes as input the scorer object. \n",
    "# The average of the \"tpot_error\" column of the error_df attribute of the operator is returned.\n",
    "from sklearn.metrics import make_scorer, mean_squared_error\n",
    "import numpy as np\n",
    "import optuna\n",
    "\n",
    "\n",
    "def optunamiser(operator):\n",
    "    def objective(trial):\n",
    "        first_degree = trial.suggest_int('first_degree', 0, 10)\n",
    "        second_degree = trial.suggest_int('second_degree', 0, 10)\n",
    "        third_degree = trial.suggest_int('third_degree', 0, 10)\n",
    "        def piecewise_quadratic(x):\n",
    "            return np.piecewise(x, [x < 0, x >= 0], [lambda x: x**2, lambda x: x**2])\n",
    "        scorer = make_scorer(mean_squared_error, greater_is_better=False)\n",
    "        operator.scorer = scorer\n",
    "        operator.params_grid = {'first_degree': [first_degree], 'second_degree': [second_degree], 'third_degree': [third_degree]}\n",
    "        operator.scoring(scorer = scorer)\n",
    "        return operator.error_df['tpot_error'].mean()\n",
    "    study = optuna.create_study(direction='minimize')\n",
    "    study.optimize(objective, n_trials=100)\n",
    "    return study.best_params"
   ]
  }
 ],
 "metadata": {
  "language_info": {
   "name": "python"
  },
  "orig_nbformat": 4
 },
 "nbformat": 4,
 "nbformat_minor": 2
}
